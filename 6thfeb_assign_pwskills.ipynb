{
 "cells": [
  {
   "cell_type": "markdown",
   "id": "888e18be-aa10-44c1-9073-7e7547294417",
   "metadata": {},
   "source": [
    "Q1. Create a function which will take a list as an argument and return the product of all the numbers\n",
    "after creating a flat list.\n",
    "Use the below-given list as an argument for your function.\n",
    "list1 = [1,2,3,4, [44,55,66, True], False, (34,56,78,89,34), {1,2,3,3,2,1}, {1:34, \"key2\": [55, 67, 78, 89], 4: (45,\n",
    "22, 61, 34)}, [56, 'data science'], 'Machine Learning']\n",
    "Note: you must extract numeric keys and values of the dictionary also."
   ]
  },
  {
   "cell_type": "code",
   "execution_count": 1,
   "id": "81dc5483-4d98-48f5-bef0-0e94a09e9b40",
   "metadata": {},
   "outputs": [],
   "source": [
    "list1 = [1,2,3,4, [44,55,66, True],\n",
    "         False, (34,56,78,89,34), {1,2,3,3,2,1},\n",
    "         {1:34, \"key2\": [55, 67, 78, 89], 4: (45, 22, 61, 34)},\n",
    "         [56, 'data science'], 'Machine Learning'] "
   ]
  },
  {
   "cell_type": "code",
   "execution_count": 2,
   "id": "2d7c5e6d-e595-4870-87bd-d8da2563a4d2",
   "metadata": {},
   "outputs": [],
   "source": [
    "list2 = []\n",
    "for n in list1:\n",
    "    if type(n) == int:\n",
    "        list2.append(n)\n",
    "    elif type(n) == list:\n",
    "        for i in n:\n",
    "            if type(i) == int:\n",
    "                list2.append(i)\n",
    "    elif type(n) == tuple:\n",
    "        for i in n:\n",
    "            if type(i) == int:\n",
    "                list2.append(i)\n",
    "    elif type(n) == set:\n",
    "        for i in n:\n",
    "            if type(i) == int:\n",
    "                list2.append(i)\n",
    "    elif type(n) == dict:\n",
    "        for k,v in n.items():\n",
    "            if type(k) == int:\n",
    "                list2.append(k)\n",
    "            if type(v) == int:\n",
    "                list2.append(v)\n",
    "            elif type(v) == list:\n",
    "                for i in v:\n",
    "                    list2.append(i)\n",
    "            elif type(v) == tuple:\n",
    "                for i in v:\n",
    "                    list2.append(i)   \n",
    "            \n",
    "                \n",
    "    \n",
    "        "
   ]
  },
  {
   "cell_type": "code",
   "execution_count": 12,
   "id": "3e7bd8b1-a151-44da-8577-f60ee4a114e5",
   "metadata": {},
   "outputs": [],
   "source": [
    "list3 = [1,2,3]\n",
    "final_list = list2 + list3"
   ]
  },
  {
   "cell_type": "code",
   "execution_count": 13,
   "id": "b70ba9ed-938b-4125-bf7e-1f6f29a988e2",
   "metadata": {},
   "outputs": [
    {
     "data": {
      "text/plain": [
       "[1,\n",
       " 2,\n",
       " 3,\n",
       " 4,\n",
       " 44,\n",
       " 55,\n",
       " 66,\n",
       " 34,\n",
       " 56,\n",
       " 78,\n",
       " 89,\n",
       " 34,\n",
       " 1,\n",
       " 2,\n",
       " 3,\n",
       " 1,\n",
       " 34,\n",
       " 55,\n",
       " 67,\n",
       " 78,\n",
       " 89,\n",
       " 4,\n",
       " 45,\n",
       " 22,\n",
       " 61,\n",
       " 34,\n",
       " 56,\n",
       " 1,\n",
       " 2,\n",
       " 3]"
      ]
     },
     "execution_count": 13,
     "metadata": {},
     "output_type": "execute_result"
    }
   ],
   "source": [
    "final_list"
   ]
  },
  {
   "cell_type": "code",
   "execution_count": 15,
   "id": "8a150fbc-c6be-4a22-84b8-0a44645f22a4",
   "metadata": {},
   "outputs": [
    {
     "data": {
      "text/plain": [
       "24808271033922512873003047452672000"
      ]
     },
     "execution_count": 15,
     "metadata": {},
     "output_type": "execute_result"
    }
   ],
   "source": [
    "from functools import reduce\n",
    "reduce(lambda x,y:x*y,final_list)"
   ]
  },
  {
   "cell_type": "markdown",
   "id": "7cc3ca8d-9293-4029-bd61-543b424ed179",
   "metadata": {},
   "source": [
    "Q2. Write a python program for encrypting a message sent to you by your friend. The logic of encryption should be such that, for a the output should be z. For b, the output should be y. For c, the output should be x respectively. Also, the whitespace should be replaced with a dollar sign. Keep the punctuation marks unchanged. Input Sentence: I want to become a Data Scientist. Encrypt the above input sentence using the program you just created. Note: Convert the given input sentence into lowercase before encrypting. The final output should be lowercase."
   ]
  },
  {
   "cell_type": "code",
   "execution_count": 4,
   "id": "c7d76e8e-4be3-4715-bfca-db24a0e811d9",
   "metadata": {},
   "outputs": [
    {
     "name": "stdin",
     "output_type": "stream",
     "text": [
      "enter your message I want to become a Data Scientist.\n"
     ]
    },
    {
     "data": {
      "text/plain": [
       "'i$wznt$to$yexome$z$dztz$sxientist.'"
      ]
     },
     "execution_count": 4,
     "metadata": {},
     "output_type": "execute_result"
    }
   ],
   "source": [
    "message = input(\"enter your message\")\n",
    "message = message.lower()\n",
    "message = message.replace(\"a\",\"z\")\n",
    "message = message.replace(\"b\",\"y\")\n",
    "message = message.replace(\"c\",\"x\")\n",
    "message = message.replace(\" \",\"$\")\n",
    "message\n",
    "\n"
   ]
  },
  {
   "cell_type": "code",
   "execution_count": null,
   "id": "33c1cef1-6899-458a-b3c6-a32861556d90",
   "metadata": {},
   "outputs": [],
   "source": []
  }
 ],
 "metadata": {
  "kernelspec": {
   "display_name": "Python 3 (ipykernel)",
   "language": "python",
   "name": "python3"
  },
  "language_info": {
   "codemirror_mode": {
    "name": "ipython",
    "version": 3
   },
   "file_extension": ".py",
   "mimetype": "text/x-python",
   "name": "python",
   "nbconvert_exporter": "python",
   "pygments_lexer": "ipython3",
   "version": "3.10.8"
  }
 },
 "nbformat": 4,
 "nbformat_minor": 5
}
